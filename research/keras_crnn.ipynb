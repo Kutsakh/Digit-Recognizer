{
 "cells": [
  {
   "cell_type": "code",
   "execution_count": 1,
   "id": "3f53fdb8",
   "metadata": {},
   "outputs": [],
   "source": [
    "from tensorflow.keras import layers, models\n",
    "import numpy as np\n",
    "import pandas as pd\n",
    "\n",
    "import matplotlib.pyplot as plt\n",
    "import matplotlib as mpl\n",
    "from sklearn.model_selection import train_test_split\n",
    "\n",
    "import sys\n",
    "sys.path.append(\"../\")\n",
    "from src.scalers import *\n",
    "from src.metrics import *"
   ]
  },
  {
   "cell_type": "markdown",
   "id": "f0c11567",
   "metadata": {},
   "source": [
    "## Keras CRNN"
   ]
  },
  {
   "cell_type": "markdown",
   "id": "284186a1",
   "metadata": {},
   "source": [
    "### Load data"
   ]
  },
  {
   "cell_type": "code",
   "execution_count": 2,
   "id": "2ab1a63b",
   "metadata": {},
   "outputs": [],
   "source": [
    "dataset = pd.DataFrame(pd.read_csv('../input/digit-recognizer/train.csv'))\n",
    "dataset = np.array(dataset, dtype='float64')\n",
    "X, y = dataset[:, 1:], dataset[:, 0, np.newaxis]\n",
    "\n",
    "x_train, x_test, y_train, y_test = train_test_split(X, y, test_size=0.1, random_state=42)"
   ]
  },
  {
   "cell_type": "code",
   "execution_count": 3,
   "id": "afe2db76",
   "metadata": {},
   "outputs": [],
   "source": [
    "img_width, img_height = 28, 28"
   ]
  },
  {
   "cell_type": "markdown",
   "id": "f58dda0d",
   "metadata": {},
   "source": [
    "### Model"
   ]
  },
  {
   "cell_type": "code",
   "execution_count": 8,
   "id": "32d5a4e2",
   "metadata": {},
   "outputs": [],
   "source": [
    "model = models.Sequential()\n",
    "\n",
    "model.add(layers.Reshape(target_shape=(img_width, img_height, 1), name=\"Reshape1\"))\n",
    "\n",
    "# Convolutional layers\n",
    "model.add(layers.Conv2D(\n",
    "    32,\n",
    "    (3, 3),\n",
    "    activation=\"relu\",\n",
    "    kernel_initializer=\"he_normal\",\n",
    "    padding=\"same\",\n",
    "    name=\"Conv1\",\n",
    "))\n",
    "model.add(layers.MaxPooling2D((2, 2), name=\"Pool1\"))\n",
    "\n",
    "model.add(layers.Conv2D(\n",
    "    64,\n",
    "    (3, 3),\n",
    "    activation=\"relu\",\n",
    "    kernel_initializer=\"he_normal\",\n",
    "    padding=\"same\",\n",
    "    name=\"Conv2\",\n",
    "))\n",
    "model.add(layers.MaxPooling2D((2, 2), name=\"Pool2\"))\n",
    "\n",
    "\n",
    "new_shape = ((img_width // 4), (img_height // 4) * 64)\n",
    "model.add(layers.Reshape(target_shape=new_shape, name=\"Reshape2\"))\n",
    "model.add(layers.Dense(64, activation=\"relu\", name=\"Dense1\"))\n",
    "model.add(layers.Dropout(0.2))\n",
    "\n",
    "# Recurrent layers\n",
    "model.add(layers.Bidirectional(layers.LSTM(128, return_sequences=True, dropout=0.25, name=\"LSTM1\")))\n",
    "model.add(layers.Bidirectional(layers.LSTM(64, return_sequences=True, dropout=0.25, name=\"LSTM2\")))\n",
    "\n",
    "# Output layer\n",
    "model.add(layers.Flatten())\n",
    "model.add(layers.Dense(10, activation=\"softmax\", name=\"Dense2\"))\n",
    "\n",
    "# Compile the model and return\n",
    "model.compile(optimizer='adam',\n",
    "              loss='sparse_categorical_crossentropy',\n",
    "              metrics=['accuracy'])"
   ]
  },
  {
   "cell_type": "code",
   "execution_count": 9,
   "id": "05ef78f7",
   "metadata": {},
   "outputs": [
    {
     "name": "stdout",
     "output_type": "stream",
     "text": [
      "Epoch 1/20\n",
      "1182/1182 [==============================] - 44s 33ms/step - loss: 1.0385 - accuracy: 0.6423\n",
      "Epoch 2/20\n",
      "1182/1182 [==============================] - 40s 34ms/step - loss: 0.2551 - accuracy: 0.9173\n",
      "Epoch 3/20\n",
      "1182/1182 [==============================] - 40s 34ms/step - loss: 0.2159 - accuracy: 0.9304\n",
      "Epoch 4/20\n",
      "1182/1182 [==============================] - 40s 34ms/step - loss: 0.1972 - accuracy: 0.9355\n",
      "Epoch 5/20\n",
      "1182/1182 [==============================] - 43s 36ms/step - loss: 0.1624 - accuracy: 0.9456\n",
      "Epoch 6/20\n",
      "1182/1182 [==============================] - 40s 34ms/step - loss: 0.1745 - accuracy: 0.9443\n",
      "Epoch 7/20\n",
      "1182/1182 [==============================] - 39s 33ms/step - loss: 0.1560 - accuracy: 0.9487\n",
      "Epoch 8/20\n",
      "1182/1182 [==============================] - 40s 34ms/step - loss: 0.1400 - accuracy: 0.9529\n",
      "Epoch 9/20\n",
      "1182/1182 [==============================] - 40s 34ms/step - loss: 0.1633 - accuracy: 0.9456\n",
      "Epoch 10/20\n",
      "1182/1182 [==============================] - 41s 35ms/step - loss: 0.1410 - accuracy: 0.9535\n",
      "Epoch 11/20\n",
      "1182/1182 [==============================] - 45s 38ms/step - loss: 0.1464 - accuracy: 0.9516\n",
      "Epoch 12/20\n",
      "1182/1182 [==============================] - 39s 33ms/step - loss: 0.1311 - accuracy: 0.9575\n",
      "Epoch 13/20\n",
      "1182/1182 [==============================] - 39s 33ms/step - loss: 0.1397 - accuracy: 0.9546\n",
      "Epoch 14/20\n",
      "1182/1182 [==============================] - 42s 35ms/step - loss: 0.1324 - accuracy: 0.9561\n",
      "Epoch 15/20\n",
      "1182/1182 [==============================] - 40s 34ms/step - loss: 0.1327 - accuracy: 0.9566\n",
      "Epoch 16/20\n",
      "1182/1182 [==============================] - 39s 33ms/step - loss: 0.1372 - accuracy: 0.9544\n",
      "Epoch 17/20\n",
      "1182/1182 [==============================] - 40s 34ms/step - loss: 0.1369 - accuracy: 0.9550\n",
      "Epoch 18/20\n",
      "1182/1182 [==============================] - 39s 33ms/step - loss: 0.1429 - accuracy: 0.9536\n",
      "Epoch 19/20\n",
      "1182/1182 [==============================] - 39s 33ms/step - loss: 0.1332 - accuracy: 0.9549\n",
      "Epoch 20/20\n",
      "1182/1182 [==============================] - 41s 35ms/step - loss: 0.1189 - accuracy: 0.9622\n"
     ]
    },
    {
     "data": {
      "text/plain": [
       "<tensorflow.python.keras.callbacks.History at 0x1c4806c6d48>"
      ]
     },
     "execution_count": 9,
     "metadata": {},
     "output_type": "execute_result"
    }
   ],
   "source": [
    "model.fit(x_train, y_train, epochs=20)"
   ]
  },
  {
   "cell_type": "code",
   "execution_count": 10,
   "id": "52c944af",
   "metadata": {},
   "outputs": [
    {
     "name": "stdout",
     "output_type": "stream",
     "text": [
      "Model: \"sequential_2\"\n",
      "_________________________________________________________________\n",
      "Layer (type)                 Output Shape              Param #   \n",
      "=================================================================\n",
      "Reshape1 (Reshape)           (None, 28, 28, 1)         0         \n",
      "_________________________________________________________________\n",
      "Conv1 (Conv2D)               (None, 28, 28, 32)        320       \n",
      "_________________________________________________________________\n",
      "Pool1 (MaxPooling2D)         (None, 14, 14, 32)        0         \n",
      "_________________________________________________________________\n",
      "Conv2 (Conv2D)               (None, 14, 14, 64)        18496     \n",
      "_________________________________________________________________\n",
      "Pool2 (MaxPooling2D)         (None, 7, 7, 64)          0         \n",
      "_________________________________________________________________\n",
      "Reshape2 (Reshape)           (None, 7, 448)            0         \n",
      "_________________________________________________________________\n",
      "Dense1 (Dense)               (None, 7, 64)             28736     \n",
      "_________________________________________________________________\n",
      "dropout_2 (Dropout)          (None, 7, 64)             0         \n",
      "_________________________________________________________________\n",
      "bidirectional_4 (Bidirection (None, 7, 256)            197632    \n",
      "_________________________________________________________________\n",
      "bidirectional_5 (Bidirection (None, 7, 128)            164352    \n",
      "_________________________________________________________________\n",
      "flatten_1 (Flatten)          (None, 896)               0         \n",
      "_________________________________________________________________\n",
      "Dense2 (Dense)               (None, 10)                8970      \n",
      "=================================================================\n",
      "Total params: 418,506\n",
      "Trainable params: 418,506\n",
      "Non-trainable params: 0\n",
      "_________________________________________________________________\n"
     ]
    }
   ],
   "source": [
    "model.summary()"
   ]
  },
  {
   "cell_type": "code",
   "execution_count": 11,
   "id": "494e6647",
   "metadata": {},
   "outputs": [],
   "source": [
    "y_pred = model.predict(x_test)\n",
    "y_pred = np.argmax(y_pred, axis=-1)"
   ]
  },
  {
   "cell_type": "code",
   "execution_count": 12,
   "id": "f9ac69d1",
   "metadata": {},
   "outputs": [
    {
     "data": {
      "image/png": "[encoded data removed]",
      "text/plain": [
       "<Figure size 1080x720 with 2 Axes>"
      ]
     },
     "metadata": {
      "needs_background": "light"
     },
     "output_type": "display_data"
    }
   ],
   "source": [
    "accuracy = plot_confusion_matrix(y_test, y_pred, fig_size=(15, 10))"
   ]
  },
  {
   "cell_type": "code",
   "execution_count": 13,
   "id": "f3ccd8ac",
   "metadata": {},
   "outputs": [
    {
     "name": "stdout",
     "output_type": "stream",
     "text": [
      "Accuracy 0.9804761904761905\n"
     ]
    }
   ],
   "source": [
    "print(f'Accuracy {accuracy}')"
   ]
  }
 ],
 "metadata": {
  "kernelspec": {
   "display_name": "Python 3",
   "language": "python",
   "name": "python3"
  },
  "language_info": {
   "codemirror_mode": {
    "name": "ipython",
    "version": 3
   },
   "file_extension": ".py",
   "mimetype": "text/x-python",
   "name": "python",
   "nbconvert_exporter": "python",
   "pygments_lexer": "ipython3",
   "version": "3.7.9"
  }
 },
 "nbformat": 4,
 "nbformat_minor": 5
}
