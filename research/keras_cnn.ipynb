{
 "cells": [
  {
   "cell_type": "code",
   "execution_count": 1,
   "id": "c20eb525",
   "metadata": {},
   "outputs": [],
   "source": [
    "from tensorflow.keras import layers, models\n",
    "import numpy as np\n",
    "import pandas as pd\n",
    "\n",
    "import matplotlib.pyplot as plt\n",
    "import matplotlib as mpl\n",
    "from sklearn.model_selection import train_test_split\n",
    "\n",
    "import sys\n",
    "sys.path.append(\"../\")\n",
    "from src.scalers import *\n",
    "from src.metrics import *"
   ]
  },
  {
   "cell_type": "markdown",
   "id": "ca9febc5",
   "metadata": {},
   "source": [
    "## Keras CNN"
   ]
  },
  {
   "cell_type": "markdown",
   "id": "1d260e53",
   "metadata": {},
   "source": [
    "### Load data"
   ]
  },
  {
   "cell_type": "code",
   "execution_count": 8,
   "id": "061da833",
   "metadata": {},
   "outputs": [],
   "source": [
    "dataset = pd.DataFrame(pd.read_csv('../input/digit-recognizer/train.csv'))\n",
    "dataset = np.array(dataset, dtype='float64')\n",
    "X, y = dataset[:, 1:], dataset[:, 0, np.newaxis]\n",
    "\n",
    "x_train, x_test, y_train, y_test = train_test_split(X, y, test_size=0.1, random_state=42)"
   ]
  },
  {
   "cell_type": "code",
   "execution_count": 9,
   "id": "92afa756",
   "metadata": {},
   "outputs": [],
   "source": [
    "img_width, img_height = 28, 28"
   ]
  },
  {
   "cell_type": "markdown",
   "id": "7da15323",
   "metadata": {},
   "source": [
    "### Model"
   ]
  },
  {
   "cell_type": "code",
   "execution_count": 21,
   "id": "82bc55a8",
   "metadata": {},
   "outputs": [],
   "source": [
    "model = models.Sequential()\n",
    "\n",
    "model.add(layers.Reshape(target_shape=(img_width, img_height, 1), name=\"Reshape1\"))\n",
    "\n",
    "# Convolutional layers\n",
    "model.add(layers.Conv2D(\n",
    "    32,\n",
    "    (3, 3),\n",
    "    activation=\"relu\",\n",
    "    kernel_initializer=\"he_normal\",\n",
    "    padding=\"same\",\n",
    "    name=\"Conv1\",\n",
    "))\n",
    "model.add(layers.MaxPooling2D((2, 2), name=\"Pool1\"))\n",
    "\n",
    "model.add(layers.Conv2D(\n",
    "    64,\n",
    "    (3, 3),\n",
    "    activation=\"relu\",\n",
    "    kernel_initializer=\"he_normal\",\n",
    "    padding=\"same\",\n",
    "    name=\"Conv2\",\n",
    "))\n",
    "model.add(layers.MaxPooling2D((2, 2), name=\"Pool2\"))\n",
    "\n",
    "\n",
    "model.add(layers.Flatten())\n",
    "model.add(layers.Dense(64, activation=\"relu\", name=\"Dense1\"))\n",
    "model.add(layers.Dropout(0.2))\n",
    "\n",
    "# Output layer\n",
    "model.add(layers.Dense(10, activation=\"softmax\", name=\"Dense2\"))\n",
    "\n",
    "# Compile the model and return\n",
    "model.compile(optimizer='adam',\n",
    "              loss='sparse_categorical_crossentropy',\n",
    "              metrics=['accuracy'])"
   ]
  },
  {
   "cell_type": "code",
   "execution_count": 22,
   "id": "f7b4d258",
   "metadata": {},
   "outputs": [
    {
     "name": "stdout",
     "output_type": "stream",
     "text": [
      "Epoch 1/30\n",
      "1182/1182 [==============================] - 19s 16ms/step - loss: 11.6118 - accuracy: 0.3178 1s -\n",
      "Epoch 2/30\n",
      "1182/1182 [==============================] - 25s 21ms/step - loss: 1.2631 - accuracy: 0.5546\n",
      "Epoch 3/30\n",
      "1182/1182 [==============================] - 26s 22ms/step - loss: 0.8455 - accuracy: 0.7344\n",
      "Epoch 4/30\n",
      "1182/1182 [==============================] - 26s 22ms/step - loss: 0.6223 - accuracy: 0.8085\n",
      "Epoch 5/30\n",
      "1182/1182 [==============================] - 23s 19ms/step - loss: 0.4818 - accuracy: 0.85350s - loss:\n",
      "Epoch 6/30\n",
      "1182/1182 [==============================] - 22s 19ms/step - loss: 0.3111 - accuracy: 0.9123\n",
      "Epoch 7/30\n",
      "1182/1182 [==============================] - 23s 20ms/step - loss: 0.2301 - accuracy: 0.9364\n",
      "Epoch 8/30\n",
      "1182/1182 [==============================] - 26s 22ms/step - loss: 0.1888 - accuracy: 0.9463\n",
      "Epoch 9/30\n",
      "1182/1182 [==============================] - 25s 21ms/step - loss: 0.1657 - accuracy: 0.9528\n",
      "Epoch 10/30\n",
      "1182/1182 [==============================] - 21s 18ms/step - loss: 0.1538 - accuracy: 0.9549\n",
      "Epoch 11/30\n",
      "1182/1182 [==============================] - 21s 18ms/step - loss: 0.1453 - accuracy: 0.9589\n",
      "Epoch 12/30\n",
      "1182/1182 [==============================] - 21s 18ms/step - loss: 0.1454 - accuracy: 0.9586\n",
      "Epoch 13/30\n",
      "1182/1182 [==============================] - 21s 18ms/step - loss: 0.1255 - accuracy: 0.9654\n",
      "Epoch 14/30\n",
      "1182/1182 [==============================] - 22s 19ms/step - loss: 0.1052 - accuracy: 0.9703\n",
      "Epoch 15/30\n",
      "1182/1182 [==============================] - 21s 18ms/step - loss: 0.1047 - accuracy: 0.9703\n",
      "Epoch 16/30\n",
      "1182/1182 [==============================] - 21s 18ms/step - loss: 0.1040 - accuracy: 0.9726\n",
      "Epoch 17/30\n",
      "1182/1182 [==============================] - 22s 18ms/step - loss: 0.0853 - accuracy: 0.9753\n",
      "Epoch 18/30\n",
      "1182/1182 [==============================] - 21s 18ms/step - loss: 0.0821 - accuracy: 0.9776\n",
      "Epoch 19/30\n",
      "1182/1182 [==============================] - 21s 18ms/step - loss: 0.0851 - accuracy: 0.9751\n",
      "Epoch 20/30\n",
      "1182/1182 [==============================] - 21s 18ms/step - loss: 0.0886 - accuracy: 0.9755\n",
      "Epoch 21/30\n",
      "1182/1182 [==============================] - 21s 18ms/step - loss: 0.0744 - accuracy: 0.9803\n",
      "Epoch 22/30\n",
      "1182/1182 [==============================] - 21s 18ms/step - loss: 0.0731 - accuracy: 0.9797\n",
      "Epoch 23/30\n",
      "1182/1182 [==============================] - 21s 18ms/step - loss: 0.0686 - accuracy: 0.9821\n",
      "Epoch 24/30\n",
      "1182/1182 [==============================] - 21s 18ms/step - loss: 0.0668 - accuracy: 0.9839\n",
      "Epoch 25/30\n",
      "1182/1182 [==============================] - 21s 18ms/step - loss: 0.0698 - accuracy: 0.9828\n",
      "Epoch 26/30\n",
      "1182/1182 [==============================] - 23s 19ms/step - loss: 0.0662 - accuracy: 0.9847\n",
      "Epoch 27/30\n",
      "1182/1182 [==============================] - 21s 18ms/step - loss: 0.0582 - accuracy: 0.9847\n",
      "Epoch 28/30\n",
      "1182/1182 [==============================] - 24s 20ms/step - loss: 0.0677 - accuracy: 0.9836\n",
      "Epoch 29/30\n",
      "1182/1182 [==============================] - 22s 18ms/step - loss: 0.0566 - accuracy: 0.9854\n",
      "Epoch 30/30\n",
      "1182/1182 [==============================] - 21s 18ms/step - loss: 0.0584 - accuracy: 0.9859\n"
     ]
    },
    {
     "data": {
      "text/plain": [
       "<tensorflow.python.keras.callbacks.History at 0x17506f10d08>"
      ]
     },
     "execution_count": 22,
     "metadata": {},
     "output_type": "execute_result"
    }
   ],
   "source": [
    "model.fit(x_train, y_train, epochs=30)"
   ]
  },
  {
   "cell_type": "code",
   "execution_count": 23,
   "id": "37e47d8b",
   "metadata": {},
   "outputs": [
    {
     "name": "stdout",
     "output_type": "stream",
     "text": [
      "Model: \"sequential_8\"\n",
      "_________________________________________________________________\n",
      "Layer (type)                 Output Shape              Param #   \n",
      "=================================================================\n",
      "Reshape1 (Reshape)           (None, 28, 28, 1)         0         \n",
      "_________________________________________________________________\n",
      "Conv1 (Conv2D)               (None, 28, 28, 32)        320       \n",
      "_________________________________________________________________\n",
      "Pool1 (MaxPooling2D)         (None, 14, 14, 32)        0         \n",
      "_________________________________________________________________\n",
      "Conv2 (Conv2D)               (None, 14, 14, 64)        18496     \n",
      "_________________________________________________________________\n",
      "Pool2 (MaxPooling2D)         (None, 7, 7, 64)          0         \n",
      "_________________________________________________________________\n",
      "flatten_2 (Flatten)          (None, 3136)              0         \n",
      "_________________________________________________________________\n",
      "Dense1 (Dense)               (None, 64)                200768    \n",
      "_________________________________________________________________\n",
      "dropout_7 (Dropout)          (None, 64)                0         \n",
      "_________________________________________________________________\n",
      "Dense2 (Dense)               (None, 10)                650       \n",
      "=================================================================\n",
      "Total params: 220,234\n",
      "Trainable params: 220,234\n",
      "Non-trainable params: 0\n",
      "_________________________________________________________________\n"
     ]
    }
   ],
   "source": [
    "model.summary()"
   ]
  },
  {
   "cell_type": "code",
   "execution_count": 24,
   "id": "653d0a35",
   "metadata": {},
   "outputs": [],
   "source": [
    "y_pred = model.predict(x_test)\n",
    "y_pred = np.argmax(y_pred, axis=-1)"
   ]
  },
  {
   "cell_type": "code",
   "execution_count": 25,
   "id": "5b88e1fb",
   "metadata": {},
   "outputs": [
    {
     "data": {
      "image/png": "[encoded data removed]",
      "text/plain": [
       "<Figure size 1080x720 with 2 Axes>"
      ]
     },
     "metadata": {
      "needs_background": "light"
     },
     "output_type": "display_data"
    }
   ],
   "source": [
    "accuracy = plot_confusion_matrix(y_test, y_pred, fig_size=(15, 10))"
   ]
  },
  {
   "cell_type": "code",
   "execution_count": 26,
   "id": "2a7e6abc",
   "metadata": {},
   "outputs": [
    {
     "name": "stdout",
     "output_type": "stream",
     "text": [
      "Accuracy 0.9823809523809524\n"
     ]
    }
   ],
   "source": [
    "print(f'Accuracy {accuracy}')"
   ]
  }
 ],
 "metadata": {
  "kernelspec": {
   "display_name": "Python 3",
   "language": "python",
   "name": "python3"
  },
  "language_info": {
   "codemirror_mode": {
    "name": "ipython",
    "version": 3
   },
   "file_extension": ".py",
   "mimetype": "text/x-python",
   "name": "python",
   "nbconvert_exporter": "python",
   "pygments_lexer": "ipython3",
   "version": "3.7.9"
  }
 },
 "nbformat": 4,
 "nbformat_minor": 5
}
