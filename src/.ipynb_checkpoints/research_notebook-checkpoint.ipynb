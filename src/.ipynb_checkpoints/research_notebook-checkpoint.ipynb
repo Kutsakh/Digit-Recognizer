{
 "cells": [
  {
   "cell_type": "markdown",
   "id": "controlled-albania",
   "metadata": {},
   "source": [
    "## Import Libraries"
   ]
  },
  {
   "cell_type": "code",
   "execution_count": 13,
   "id": "individual-dealing",
   "metadata": {},
   "outputs": [],
   "source": [
    "import numpy as np\n",
    "import pandas as pd\n",
    "\n",
    "import matplotlib as mpl\n",
    "import matplotlib.pyplot as plt"
   ]
  },
  {
   "cell_type": "markdown",
   "id": "quick-mistress",
   "metadata": {},
   "source": [
    "## Load Data"
   ]
  },
  {
   "cell_type": "code",
   "execution_count": 14,
   "id": "elegant-settlement",
   "metadata": {},
   "outputs": [
    {
     "data": {
      "text/html": [
       "<div>\n",
       "<style scoped>\n",
       "    .dataframe tbody tr th:only-of-type {\n",
       "        vertical-align: middle;\n",
       "    }\n",
       "\n",
       "    .dataframe tbody tr th {\n",
       "        vertical-align: top;\n",
       "    }\n",
       "\n",
       "    .dataframe thead th {\n",
       "        text-align: right;\n",
       "    }\n",
       "</style>\n",
       "<table border=\"1\" class=\"dataframe\">\n",
       "  <thead>\n",
       "    <tr style=\"text-align: right;\">\n",
       "      <th></th>\n",
       "      <th>label</th>\n",
       "      <th>pixel0</th>\n",
       "      <th>pixel1</th>\n",
       "      <th>pixel2</th>\n",
       "      <th>pixel3</th>\n",
       "      <th>pixel4</th>\n",
       "      <th>pixel5</th>\n",
       "      <th>pixel6</th>\n",
       "      <th>pixel7</th>\n",
       "      <th>pixel8</th>\n",
       "      <th>...</th>\n",
       "      <th>pixel774</th>\n",
       "      <th>pixel775</th>\n",
       "      <th>pixel776</th>\n",
       "      <th>pixel777</th>\n",
       "      <th>pixel778</th>\n",
       "      <th>pixel779</th>\n",
       "      <th>pixel780</th>\n",
       "      <th>pixel781</th>\n",
       "      <th>pixel782</th>\n",
       "      <th>pixel783</th>\n",
       "    </tr>\n",
       "  </thead>\n",
       "  <tbody>\n",
       "    <tr>\n",
       "      <th>0</th>\n",
       "      <td>1</td>\n",
       "      <td>0</td>\n",
       "      <td>0</td>\n",
       "      <td>0</td>\n",
       "      <td>0</td>\n",
       "      <td>0</td>\n",
       "      <td>0</td>\n",
       "      <td>0</td>\n",
       "      <td>0</td>\n",
       "      <td>0</td>\n",
       "      <td>...</td>\n",
       "      <td>0</td>\n",
       "      <td>0</td>\n",
       "      <td>0</td>\n",
       "      <td>0</td>\n",
       "      <td>0</td>\n",
       "      <td>0</td>\n",
       "      <td>0</td>\n",
       "      <td>0</td>\n",
       "      <td>0</td>\n",
       "      <td>0</td>\n",
       "    </tr>\n",
       "    <tr>\n",
       "      <th>1</th>\n",
       "      <td>0</td>\n",
       "      <td>0</td>\n",
       "      <td>0</td>\n",
       "      <td>0</td>\n",
       "      <td>0</td>\n",
       "      <td>0</td>\n",
       "      <td>0</td>\n",
       "      <td>0</td>\n",
       "      <td>0</td>\n",
       "      <td>0</td>\n",
       "      <td>...</td>\n",
       "      <td>0</td>\n",
       "      <td>0</td>\n",
       "      <td>0</td>\n",
       "      <td>0</td>\n",
       "      <td>0</td>\n",
       "      <td>0</td>\n",
       "      <td>0</td>\n",
       "      <td>0</td>\n",
       "      <td>0</td>\n",
       "      <td>0</td>\n",
       "    </tr>\n",
       "    <tr>\n",
       "      <th>2</th>\n",
       "      <td>1</td>\n",
       "      <td>0</td>\n",
       "      <td>0</td>\n",
       "      <td>0</td>\n",
       "      <td>0</td>\n",
       "      <td>0</td>\n",
       "      <td>0</td>\n",
       "      <td>0</td>\n",
       "      <td>0</td>\n",
       "      <td>0</td>\n",
       "      <td>...</td>\n",
       "      <td>0</td>\n",
       "      <td>0</td>\n",
       "      <td>0</td>\n",
       "      <td>0</td>\n",
       "      <td>0</td>\n",
       "      <td>0</td>\n",
       "      <td>0</td>\n",
       "      <td>0</td>\n",
       "      <td>0</td>\n",
       "      <td>0</td>\n",
       "    </tr>\n",
       "    <tr>\n",
       "      <th>3</th>\n",
       "      <td>4</td>\n",
       "      <td>0</td>\n",
       "      <td>0</td>\n",
       "      <td>0</td>\n",
       "      <td>0</td>\n",
       "      <td>0</td>\n",
       "      <td>0</td>\n",
       "      <td>0</td>\n",
       "      <td>0</td>\n",
       "      <td>0</td>\n",
       "      <td>...</td>\n",
       "      <td>0</td>\n",
       "      <td>0</td>\n",
       "      <td>0</td>\n",
       "      <td>0</td>\n",
       "      <td>0</td>\n",
       "      <td>0</td>\n",
       "      <td>0</td>\n",
       "      <td>0</td>\n",
       "      <td>0</td>\n",
       "      <td>0</td>\n",
       "    </tr>\n",
       "    <tr>\n",
       "      <th>4</th>\n",
       "      <td>0</td>\n",
       "      <td>0</td>\n",
       "      <td>0</td>\n",
       "      <td>0</td>\n",
       "      <td>0</td>\n",
       "      <td>0</td>\n",
       "      <td>0</td>\n",
       "      <td>0</td>\n",
       "      <td>0</td>\n",
       "      <td>0</td>\n",
       "      <td>...</td>\n",
       "      <td>0</td>\n",
       "      <td>0</td>\n",
       "      <td>0</td>\n",
       "      <td>0</td>\n",
       "      <td>0</td>\n",
       "      <td>0</td>\n",
       "      <td>0</td>\n",
       "      <td>0</td>\n",
       "      <td>0</td>\n",
       "      <td>0</td>\n",
       "    </tr>\n",
       "  </tbody>\n",
       "</table>\n",
       "<p>5 rows × 785 columns</p>\n",
       "</div>"
      ],
      "text/plain": [
       "   label  pixel0  pixel1  pixel2  pixel3  pixel4  pixel5  pixel6  pixel7  \\\n",
       "0      1       0       0       0       0       0       0       0       0   \n",
       "1      0       0       0       0       0       0       0       0       0   \n",
       "2      1       0       0       0       0       0       0       0       0   \n",
       "3      4       0       0       0       0       0       0       0       0   \n",
       "4      0       0       0       0       0       0       0       0       0   \n",
       "\n",
       "   pixel8  ...  pixel774  pixel775  pixel776  pixel777  pixel778  pixel779  \\\n",
       "0       0  ...         0         0         0         0         0         0   \n",
       "1       0  ...         0         0         0         0         0         0   \n",
       "2       0  ...         0         0         0         0         0         0   \n",
       "3       0  ...         0         0         0         0         0         0   \n",
       "4       0  ...         0         0         0         0         0         0   \n",
       "\n",
       "   pixel780  pixel781  pixel782  pixel783  \n",
       "0         0         0         0         0  \n",
       "1         0         0         0         0  \n",
       "2         0         0         0         0  \n",
       "3         0         0         0         0  \n",
       "4         0         0         0         0  \n",
       "\n",
       "[5 rows x 785 columns]"
      ]
     },
     "execution_count": 14,
     "metadata": {},
     "output_type": "execute_result"
    }
   ],
   "source": [
    "dataset = pd.DataFrame(pd.read_csv('../input/digit-recognizer/train.csv'))\n",
    "dataset.head()"
   ]
  },
  {
   "cell_type": "code",
   "execution_count": 15,
   "id": "genetic-scale",
   "metadata": {},
   "outputs": [
    {
     "data": {
      "text/plain": [
       "42000"
      ]
     },
     "execution_count": 15,
     "metadata": {},
     "output_type": "execute_result"
    }
   ],
   "source": [
    "len(dataset)"
   ]
  },
  {
   "cell_type": "code",
   "execution_count": 16,
   "id": "active-basin",
   "metadata": {},
   "outputs": [],
   "source": [
    "dataset = dataset.to_numpy()\n",
    "x_dataset, y_dataset = dataset[:, 1:], dataset[:, 0, np.newaxis]\n",
    "\n",
    "train_num = int(0.9 * len(dataset))\n",
    "x_train, y_train, x_test, y_test = x_dataset[:train_num], y_dataset[:train_num], x_dataset[train_num:], y_dataset[train_num:]\n",
    "\n",
    "# for binary classifiers\n",
    "y_train_5 = np.array((y_train == 5), dtype='int32').ravel()\n",
    "y_test_5 = np.array((y_test == 5), dtype='int32').ravel()"
   ]
  },
  {
   "cell_type": "markdown",
   "id": "patent-brook",
   "metadata": {},
   "source": [
    "## View Data"
   ]
  },
  {
   "cell_type": "code",
   "execution_count": 17,
   "id": "subsequent-scheduling",
   "metadata": {},
   "outputs": [
    {
     "data": {
      "image/png": "[encoded data removed]",
      "text/plain": [
       "<Figure size 432x288 with 1 Axes>"
      ]
     },
     "metadata": {
      "needs_background": "light"
     },
     "output_type": "display_data"
    }
   ],
   "source": [
    "some_digit = x_train[7]\n",
    "some_digit_image = some_digit.reshape(28, 28)\n",
    "\n",
    "plt.imshow(some_digit_image, cmap = mpl.cm.binary, interpolation='nearest')\n",
    "plt.axis('off')\n",
    "plt.show()"
   ]
  },
  {
   "cell_type": "code",
   "execution_count": 18,
   "id": "incoming-hospital",
   "metadata": {},
   "outputs": [
    {
     "data": {
      "text/plain": [
       "array([3], dtype=int64)"
      ]
     },
     "execution_count": 18,
     "metadata": {},
     "output_type": "execute_result"
    }
   ],
   "source": [
    "y_train[7]"
   ]
  },
  {
   "cell_type": "markdown",
   "id": "allied-hindu",
   "metadata": {},
   "source": [
    "## Scale Data"
   ]
  },
  {
   "cell_type": "code",
   "execution_count": 19,
   "id": "strategic-applicant",
   "metadata": {},
   "outputs": [],
   "source": [
    "from sklearn.preprocessing import StandardScaler\n",
    "from sklearn.preprocessing import MinMaxScaler\n",
    "from sklearn.base import TransformerMixin\n",
    "\n",
    "\n",
    "# standart_scaler_pipeline = Pipeline([\n",
    "#     ('standart_scaler', StandardScaler()),\n",
    "# ])\n",
    "\n",
    "class NoScaler(TransformerMixin):\n",
    "    def __init__(self):\n",
    "        pass\n",
    "    \n",
    "    def fit(self, data):\n",
    "         return self\n",
    "        \n",
    "    def transform(self, data):\n",
    "        return data\n",
    "    \n",
    "    def inverse_transform(self, data):\n",
    "        return data\n",
    "    \n",
    "# scaler = NoScaler() #  do nothing\n",
    "scaler = StandardScaler() #  set mean=0, std=1\n",
    "# scaler = MinMaxScaler() #  set values to [0, 1]\n",
    "\n",
    "x_train_scaler = scaler.fit(x_train)\n",
    "x_train = x_train_scaler.transform(x_train)\n",
    "x_test = x_train_scaler.transform(x_test)\n",
    "\n",
    "y_train_scaler = scaler.fit(y_train)\n",
    "y_train = y_train_scaler.transform(y_train)\n",
    "# y_test = y_train_scaler.transform(y_test)"
   ]
  },
  {
   "cell_type": "markdown",
   "id": "plastic-amsterdam",
   "metadata": {},
   "source": [
    "## Calculate metrics"
   ]
  },
  {
   "cell_type": "markdown",
   "id": "religious-graph",
   "metadata": {},
   "source": [
    "### Plot confusion matrix"
   ]
  },
  {
   "cell_type": "code",
   "execution_count": 20,
   "id": "adequate-zealand",
   "metadata": {},
   "outputs": [],
   "source": [
    "from sklearn.metrics import confusion_matrix\n",
    "import seaborn as sns\n",
    "\n",
    "\n",
    "def plot_confusion_matrix(y_test, y_pred, figsize):\n",
    "    cf_matrix = confusion_matrix(y_test, y_pred)\n",
    "\n",
    "    fig, ax = plt.subplots(figsize=figsize)\n",
    "    sns.heatmap(cf_matrix/np.sum(cf_matrix), annot=True, fmt='.2%', cmap='Blues', ax=ax)\n",
    "    plt.xlabel('Predicted')\n",
    "    plt.ylabel('Actual')\n",
    "    plt.show()\n",
    "    \n",
    "    pred_true = np.sum(np.array(cf_matrix).diagonal())\n",
    "    pred_num = np.sum(cf_matrix)\n",
    "    accuracy = pred_true / pred_num\n",
    "    return accuracy"
   ]
  },
  {
   "cell_type": "markdown",
   "id": "limiting-boulder",
   "metadata": {},
   "source": [
    "### Print precision & recall"
   ]
  },
  {
   "cell_type": "code",
   "execution_count": 21,
   "id": "convinced-fitting",
   "metadata": {},
   "outputs": [],
   "source": [
    "from sklearn.metrics import precision_score, recall_score\n",
    "\n",
    "def print_precision_recall(y_test, y_pred):\n",
    "    print(f'Precision {precision_score(y_test, y_pred)}')\n",
    "    print(f'Recall {recall_score(y_test, y_pred)}')"
   ]
  },
  {
   "cell_type": "markdown",
   "id": "light-theory",
   "metadata": {},
   "source": [
    "### Plot ROC curve"
   ]
  },
  {
   "cell_type": "code",
   "execution_count": 36,
   "id": "entitled-asset",
   "metadata": {},
   "outputs": [],
   "source": [
    "from sklearn.metrics import roc_curve\n",
    "\n",
    "\n",
    "def plot_roc_curve(y_test, y_proba):\n",
    "    fpr, tpr, thresholds = roc_curve(y_test, y_proba)\n",
    "    plt.plot(fpr, tpr, linewidth=2)\n",
    "    plt.plot([0, 1], [0, 1], 'k--') #  dashed diagonal\n",
    "    plt.grid()\n",
    "    plt.xlabel('False positive rate')\n",
    "    plt.ylabel('True positive rate (recall)')\n",
    "    plt.show()"
   ]
  },
  {
   "cell_type": "markdown",
   "id": "serial-steel",
   "metadata": {},
   "source": [
    "# Regressions"
   ]
  },
  {
   "cell_type": "markdown",
   "id": "decent-pakistan",
   "metadata": {},
   "source": [
    "## Linear Regression"
   ]
  },
  {
   "cell_type": "code",
   "execution_count": 23,
   "id": "buried-korean",
   "metadata": {},
   "outputs": [
    {
     "data": {
      "text/plain": [
       "LinearRegression()"
      ]
     },
     "execution_count": 23,
     "metadata": {},
     "output_type": "execute_result"
    }
   ],
   "source": [
    "from sklearn.linear_model import LinearRegression\n",
    "\n",
    "\n",
    "lin_reg = LinearRegression()\n",
    "lin_reg.fit(x_train, y_train)"
   ]
  },
  {
   "cell_type": "code",
   "execution_count": 24,
   "id": "careful-creation",
   "metadata": {},
   "outputs": [],
   "source": [
    "y_pred = lin_reg.predict(x_test)\n",
    "y_pred = y_pred.clip(*y_train_scaler.transform([[0.0], [9.0]])) #  set values to [0, 9]\n",
    "y_pred = y_train_scaler.inverse_transform(y_pred) #  get unscaled\n",
    "y_pred = np.round(y_pred)"
   ]
  },
  {
   "cell_type": "code",
   "execution_count": 27,
   "id": "cellular-species",
   "metadata": {},
   "outputs": [
    {
     "data": {
      "image/png": "[encoded data removed]",
      "text/plain": [
       "<Figure size 1080x720 with 2 Axes>"
      ]
     },
     "metadata": {
      "needs_background": "light"
     },
     "output_type": "display_data"
    }
   ],
   "source": [
    "accuracy = plot_confusion_matrix(y_test, y_pred, figsize=(15, 10))"
   ]
  },
  {
   "cell_type": "code",
   "execution_count": 28,
   "id": "induced-thriller",
   "metadata": {},
   "outputs": [
    {
     "name": "stdout",
     "output_type": "stream",
     "text": [
      "Accuracy 0.2469047619047619\n"
     ]
    }
   ],
   "source": [
    "print(f'Accuracy {accuracy}')"
   ]
  },
  {
   "cell_type": "markdown",
   "id": "handed-plasma",
   "metadata": {},
   "source": [
    "## Polynomial Regression"
   ]
  },
  {
   "cell_type": "markdown",
   "id": "fitting-score",
   "metadata": {},
   "source": [
    "> **not enough memory**\n",
    "\n",
    "> **too long runtime**"
   ]
  },
  {
   "cell_type": "code",
   "execution_count": null,
   "id": "complicated-revision",
   "metadata": {},
   "outputs": [],
   "source": [
    "# from sklearn.model_selection import GridSearchCV\n",
    "# from sklearn.preprocessing import PolynomialFeatures\n",
    "# from sklearn.pipeline import make_pipeline\n",
    "\n",
    "\n",
    "# def PolynomialRegression(degree=2, **kwargs):\n",
    "#     return make_pipeline(PolynomialFeatures(degree), LinearRegression(**kwargs))\n",
    "\n",
    "# param_grid = {'polynomialfeatures__degree': np.arange(2, 4)}\n",
    "# grid_search = GridSearchCV(PolynomialRegression(), param_grid, cv=10, scoring='neg_mean_squared_error')\n",
    "\n",
    "# grid_search.fit(x_train, y_train)\n",
    "# grid_search.best_params_"
   ]
  },
  {
   "cell_type": "markdown",
   "id": "growing-cannon",
   "metadata": {},
   "source": [
    "# Binary Classifiers (predict if digit is 5)"
   ]
  },
  {
   "cell_type": "markdown",
   "id": "northern-fireplace",
   "metadata": {},
   "source": [
    "## Logistic Regression"
   ]
  },
  {
   "cell_type": "code",
   "execution_count": 29,
   "id": "russian-romance",
   "metadata": {},
   "outputs": [
    {
     "data": {
      "text/plain": [
       "LogisticRegression(max_iter=1000)"
      ]
     },
     "execution_count": 29,
     "metadata": {},
     "output_type": "execute_result"
    }
   ],
   "source": [
    "from sklearn.linear_model import LogisticRegression\n",
    "\n",
    "\n",
    "log_reg = LogisticRegression(max_iter=1000)\n",
    "log_reg.fit(x_train, y_train_5)"
   ]
  },
  {
   "cell_type": "code",
   "execution_count": 30,
   "id": "direct-bones",
   "metadata": {},
   "outputs": [],
   "source": [
    "y_proba_5 = log_reg.predict_proba(x_test)\n",
    "y_pred_5 = np.argmax(y_proba_5, axis=-1)"
   ]
  },
  {
   "cell_type": "code",
   "execution_count": 32,
   "id": "warming-edmonton",
   "metadata": {},
   "outputs": [
    {
     "data": {
      "image/png": "[encoded data removed]",
      "text/plain": [
       "<Figure size 432x360 with 2 Axes>"
      ]
     },
     "metadata": {
      "needs_background": "light"
     },
     "output_type": "display_data"
    },
    {
     "data": {
      "text/plain": [
       "0.9771428571428571"
      ]
     },
     "execution_count": 32,
     "metadata": {},
     "output_type": "execute_result"
    }
   ],
   "source": [
    "plot_confusion_matrix(y_test_5, y_pred_5, figsize=(6, 5))"
   ]
  },
  {
   "cell_type": "code",
   "execution_count": 33,
   "id": "uniform-quantity",
   "metadata": {},
   "outputs": [
    {
     "name": "stdout",
     "output_type": "stream",
     "text": [
      "Precision 0.9006211180124224\n",
      "Recall 0.8192090395480226\n"
     ]
    }
   ],
   "source": [
    "print_precision_recall(y_test_5, y_pred_5)"
   ]
  },
  {
   "cell_type": "code",
   "execution_count": 37,
   "id": "collective-columbus",
   "metadata": {},
   "outputs": [
    {
     "data": {
      "image/png": "[encoded data removed]",
      "text/plain": [
       "<Figure size 432x288 with 1 Axes>"
      ]
     },
     "metadata": {
      "needs_background": "light"
     },
     "output_type": "display_data"
    }
   ],
   "source": [
    "plot_roc_curve(y_test_5, y_proba_5[:, 1])"
   ]
  },
  {
   "cell_type": "markdown",
   "id": "ceramic-referral",
   "metadata": {},
   "source": [
    "## Support Vector Machines"
   ]
  },
  {
   "cell_type": "markdown",
   "id": "waiting-construction",
   "metadata": {},
   "source": [
    "> **important: use StandartScaler**"
   ]
  },
  {
   "cell_type": "markdown",
   "id": "ignored-disposition",
   "metadata": {},
   "source": [
    "### Grid search"
   ]
  },
  {
   "cell_type": "markdown",
   "id": "reverse-acting",
   "metadata": {},
   "source": [
    "> **use it to find best hyperparameters for your dataset**\n",
    "\n",
    "> **example code:**"
   ]
  },
  {
   "cell_type": "code",
   "execution_count": 38,
   "id": "neural-proxy",
   "metadata": {},
   "outputs": [
    {
     "data": {
      "text/plain": [
       "{'C': 0.2, 'coef0': 4.0, 'degree': 3, 'kernel': 'poly'}"
      ]
     },
     "execution_count": 38,
     "metadata": {},
     "output_type": "execute_result"
    }
   ],
   "source": [
    "from sklearn.svm import SVC\n",
    "from sklearn.model_selection import GridSearchCV\n",
    "\n",
    "\n",
    "param_grid = {'kernel': ['poly'],\n",
    "              'C': np.linspace(0.1, 0.5, 5),\n",
    "              'degree': np.arange(3, 5),\n",
    "              'coef0': np.linspace(1, 5, 5)\n",
    "             }\n",
    "grid_search = GridSearchCV(SVC(), param_grid, cv=10, scoring='neg_mean_squared_error')\n",
    "\n",
    "grid_search.fit(x_train[:1000], y_train_5[:1000]) #  long runtime: try on dataset part\n",
    "grid_search.best_params_"
   ]
  },
  {
   "cell_type": "markdown",
   "id": "civil-transport",
   "metadata": {},
   "source": [
    "### Linear SVM"
   ]
  },
  {
   "cell_type": "code",
   "execution_count": 40,
   "id": "detailed-breathing",
   "metadata": {},
   "outputs": [
    {
     "data": {
      "text/plain": [
       "LinearSVC(C=0.03, loss='hinge', max_iter=30000)"
      ]
     },
     "execution_count": 40,
     "metadata": {},
     "output_type": "execute_result"
    }
   ],
   "source": [
    "from sklearn.svm import LinearSVC\n",
    "\n",
    "\n",
    "lin_svm_clf = LinearSVC(C=0.03, loss='hinge', max_iter=30000)\n",
    "lin_svm_clf.fit(x_train, y_train_5)"
   ]
  },
  {
   "cell_type": "code",
   "execution_count": 41,
   "id": "international-composite",
   "metadata": {},
   "outputs": [],
   "source": [
    "y_pred_5 = lin_svm_clf.predict(x_test)"
   ]
  },
  {
   "cell_type": "code",
   "execution_count": 42,
   "id": "compliant-gross",
   "metadata": {},
   "outputs": [
    {
     "data": {
      "image/png": "[encoded data removed]",
      "text/plain": [
       "<Figure size 432x360 with 2 Axes>"
      ]
     },
     "metadata": {
      "needs_background": "light"
     },
     "output_type": "display_data"
    },
    {
     "data": {
      "text/plain": [
       "0.9766666666666667"
      ]
     },
     "execution_count": 42,
     "metadata": {},
     "output_type": "execute_result"
    }
   ],
   "source": [
    "plot_confusion_matrix(y_test_5, y_pred_5, figsize=(6, 5))"
   ]
  },
  {
   "cell_type": "code",
   "execution_count": 43,
   "id": "passive-dallas",
   "metadata": {},
   "outputs": [
    {
     "name": "stdout",
     "output_type": "stream",
     "text": [
      "Precision 0.8902439024390244\n",
      "Recall 0.8248587570621468\n"
     ]
    }
   ],
   "source": [
    "print_precision_recall(y_test_5, y_pred_5)"
   ]
  },
  {
   "cell_type": "markdown",
   "id": "infrared-ranch",
   "metadata": {},
   "source": [
    "## Nonlinear SVM (Polynomial)"
   ]
  },
  {
   "cell_type": "code",
   "execution_count": 45,
   "id": "becoming-library",
   "metadata": {},
   "outputs": [
    {
     "data": {
      "text/plain": [
       "SVC(C=0.2, coef0=4.0, kernel='poly')"
      ]
     },
     "execution_count": 45,
     "metadata": {},
     "output_type": "execute_result"
    }
   ],
   "source": [
    "poly_svm_clf = SVC(kernel='poly', C=0.2, degree=3, coef0=4.0)\n",
    "poly_svm_clf.fit(x_train, y_train_5)"
   ]
  },
  {
   "cell_type": "code",
   "execution_count": 47,
   "id": "embedded-contract",
   "metadata": {},
   "outputs": [],
   "source": [
    "y_pred_5 = poly_svm_clf.predict(x_test)"
   ]
  },
  {
   "cell_type": "code",
   "execution_count": 48,
   "id": "stuffed-elder",
   "metadata": {},
   "outputs": [
    {
     "data": {
      "image/png": "[encoded data removed]",
      "text/plain": [
       "<Figure size 432x360 with 2 Axes>"
      ]
     },
     "metadata": {
      "needs_background": "light"
     },
     "output_type": "display_data"
    },
    {
     "data": {
      "text/plain": [
       "0.9926190476190476"
      ]
     },
     "execution_count": 48,
     "metadata": {},
     "output_type": "execute_result"
    }
   ],
   "source": [
    "plot_confusion_matrix(y_test_5, y_pred_5, figsize=(6, 5))"
   ]
  },
  {
   "cell_type": "code",
   "execution_count": 49,
   "id": "accredited-smart",
   "metadata": {},
   "outputs": [
    {
     "name": "stdout",
     "output_type": "stream",
     "text": [
      "Precision 0.9736070381231672\n",
      "Recall 0.9378531073446328\n"
     ]
    }
   ],
   "source": [
    "print_precision_recall(y_test_5, y_pred_5)"
   ]
  },
  {
   "cell_type": "markdown",
   "id": "noticed-albuquerque",
   "metadata": {},
   "source": [
    "## Nonlinear SVM (Gaussian RBF)"
   ]
  },
  {
   "cell_type": "code",
   "execution_count": 50,
   "id": "otherwise-license",
   "metadata": {},
   "outputs": [
    {
     "data": {
      "text/plain": [
       "SVC(C=1e-09, gamma=1e-09)"
      ]
     },
     "execution_count": 50,
     "metadata": {},
     "output_type": "execute_result"
    }
   ],
   "source": [
    "rbf_svm_clf = SVC(kernel='rbf', C=1e-09, gamma=1e-09)\n",
    "rbf_svm_clf.fit(x_train, y_train_5)"
   ]
  },
  {
   "cell_type": "code",
   "execution_count": 51,
   "id": "massive-victoria",
   "metadata": {},
   "outputs": [],
   "source": [
    "y_pred_5 = poly_svm_clf.predict(x_test)"
   ]
  },
  {
   "cell_type": "code",
   "execution_count": 52,
   "id": "drawn-scroll",
   "metadata": {},
   "outputs": [
    {
     "data": {
      "image/png": "[encoded data removed]",
      "text/plain": [
       "<Figure size 432x360 with 2 Axes>"
      ]
     },
     "metadata": {
      "needs_background": "light"
     },
     "output_type": "display_data"
    },
    {
     "data": {
      "text/plain": [
       "0.9926190476190476"
      ]
     },
     "execution_count": 52,
     "metadata": {},
     "output_type": "execute_result"
    }
   ],
   "source": [
    "plot_confusion_matrix(y_test_5, y_pred_5, figsize=(6, 5))"
   ]
  },
  {
   "cell_type": "code",
   "execution_count": 53,
   "id": "interim-measure",
   "metadata": {},
   "outputs": [
    {
     "name": "stdout",
     "output_type": "stream",
     "text": [
      "Precision 0.9736070381231672\n",
      "Recall 0.9378531073446328\n"
     ]
    }
   ],
   "source": [
    "print_precision_recall(y_test_5, y_pred_5)"
   ]
  }
 ],
 "metadata": {
  "kernelspec": {
   "display_name": "Python 3",
   "language": "python",
   "name": "python3"
  },
  "language_info": {
   "codemirror_mode": {
    "name": "ipython",
    "version": 3
   },
   "file_extension": ".py",
   "mimetype": "text/x-python",
   "name": "python",
   "nbconvert_exporter": "python",
   "pygments_lexer": "ipython3",
   "version": "3.7.9"
  }
 },
 "nbformat": 4,
 "nbformat_minor": 5
}
